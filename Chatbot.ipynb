{
 "cells": [
  {
   "cell_type": "code",
   "execution_count": null,
   "id": "a8ccbba5",
   "metadata": {},
   "outputs": [
    {
     "name": "stdin",
     "output_type": "stream",
     "text": [
      "\n",
      "type 'Quit' to end\n",
      "You:  hello\n"
     ]
    },
    {
     "name": "stdout",
     "output_type": "stream",
     "text": [
      "Bot: Hello! How can I help you today?\n"
     ]
    },
    {
     "name": "stdin",
     "output_type": "stream",
     "text": [
      "\n",
      "type 'Quit' to end\n",
      "You:  what is your name?\n"
     ]
    },
    {
     "name": "stdout",
     "output_type": "stream",
     "text": [
      "Bot: I am Bot!\n"
     ]
    },
    {
     "name": "stdin",
     "output_type": "stream",
     "text": [
      "\n",
      "type 'Quit' to end\n",
      "You:  how old are you?\n"
     ]
    },
    {
     "name": "stdout",
     "output_type": "stream",
     "text": [
      "Bot: I am 8 years old\n"
     ]
    },
    {
     "name": "stdin",
     "output_type": "stream",
     "text": [
      "\n",
      "type 'Quit' to end\n",
      "You:  where are you located?\n"
     ]
    },
    {
     "name": "stdout",
     "output_type": "stream",
     "text": [
      "Bot: I live in Ang Mo Kio\n"
     ]
    },
    {
     "name": "stdin",
     "output_type": "stream",
     "text": [
      "\n",
      "type 'Quit' to end\n",
      "You:  what is your hobby?\n"
     ]
    },
    {
     "name": "stdout",
     "output_type": "stream",
     "text": [
      "Bot: I like to program and serve people\n"
     ]
    },
    {
     "name": "stdin",
     "output_type": "stream",
     "text": [
      "\n",
      "type 'Quit' to end\n",
      "You:  goodbye\n"
     ]
    },
    {
     "name": "stdout",
     "output_type": "stream",
     "text": [
      "Bot: I did not understand that.\n"
     ]
    }
   ],
   "source": [
    "import spacy\n",
    "from spacy.matcher import Matcher\n",
    "\n",
    "nlp = spacy.load(\"en_core_web_sm\")\n",
    "\n",
    "matcher = Matcher(nlp.vocab)\n",
    "\n",
    "patterns_responses = {\n",
    "    \"GREETING\": (\"Hello! How can I help you today?\", [[\"hello\"], [\"hi\"], [\"yo\"]]),\n",
    "    \"BYE\": (\"Goodbye! Have a great day!\", [[\"bye\"], [\"bye bye\"], [\"bb\"]]),\n",
    "    \"NAME\": (\"I am Bot!\", [[\"name\"], [\"names\"]]),\n",
    "    \"ADDRESS\": (\"I live in Ang Mo Kio\", [[\"location\"], [\"address\"], [\"stay\"], [\"locate\"], [\"located\"]]),\n",
    "    \"AGE\": (\"I am 8 years old\", [[\"old\"], [\"age\"], [\"year\"], [\"years\"]]),\n",
    "    \"HOBBY\": (\"I like to program and serve people\", [[\"hobby\"], [\"hobbies\"]]),\n",
    "}\n",
    "\n",
    "for label, (response, patterns) in patterns_responses.items():\n",
    "    matcher.add(label, [[{\"LOWER\": word} for word in lowerWord] for lowerWord in patterns])\n",
    "\n",
    "\n",
    "def get_response(text):\n",
    "    doc = nlp(text)\n",
    "    matches = matcher(doc)\n",
    "    if matches:\n",
    "        for match_id, start, end in matches: \n",
    "            label = nlp.vocab.strings[match_id]\n",
    "            return patterns_responses[label][0] \n",
    "    return \"I did not understand that.\"\n",
    "\n",
    "while True:\n",
    "    user_input = input(\"\\ntype 'Quit' to end\\nYou: \")\n",
    "    if user_input.lower() == \"quit\":\n",
    "        print(\"Bot: Goodbye!\")\n",
    "        break\n",
    "    response = get_response(user_input)\n",
    "    print(f\"Bot: {response}\")\n"
   ]
  },
  {
   "cell_type": "code",
   "execution_count": null,
   "id": "9b1beabe-2562-4b28-8b55-a510c7080d3b",
   "metadata": {},
   "outputs": [],
   "source": []
  }
 ],
 "metadata": {
  "kernelspec": {
   "display_name": "Python 3 (ipykernel)",
   "language": "python",
   "name": "python3"
  },
  "language_info": {
   "codemirror_mode": {
    "name": "ipython",
    "version": 3
   },
   "file_extension": ".py",
   "mimetype": "text/x-python",
   "name": "python",
   "nbconvert_exporter": "python",
   "pygments_lexer": "ipython3",
   "version": "3.11.9"
  }
 },
 "nbformat": 4,
 "nbformat_minor": 5
}
