{
 "cells": [
  {
   "cell_type": "code",
   "execution_count": 1,
   "id": "5fb0e779",
   "metadata": {},
   "outputs": [],
   "source": [
    "def short_rhyme():\n",
    "    print(\"Twinkle twinkle little star \\nHow I wonder what you are\")"
   ]
  },
  {
   "cell_type": "code",
   "execution_count": 2,
   "id": "e0c3127f",
   "metadata": {},
   "outputs": [
    {
     "name": "stdout",
     "output_type": "stream",
     "text": [
      "Twinkle twinkle little star \n",
      "How I wonder what you are\n"
     ]
    }
   ],
   "source": [
    "short_rhyme()\n"
   ]
  },
  {
   "cell_type": "code",
   "execution_count": 3,
   "id": "3a35add2",
   "metadata": {},
   "outputs": [],
   "source": [
    "def title_it(msg):\n",
    "    print(msg.title())\n",
    "    "
   ]
  },
  {
   "cell_type": "code",
   "execution_count": 4,
   "id": "5f75124f",
   "metadata": {},
   "outputs": [
    {
     "name": "stdout",
     "output_type": "stream",
     "text": [
      "As You Like It\n"
     ]
    }
   ],
   "source": [
    "title_it(\"as you like it\")"
   ]
  },
  {
   "cell_type": "code",
   "execution_count": 6,
   "id": "27aebf22",
   "metadata": {},
   "outputs": [
    {
     "name": "stdout",
     "output_type": "stream",
     "text": [
      "what is the title?the star\n",
      "The Star\n"
     ]
    }
   ],
   "source": [
    "# [ ] get user input with prompt \"what is the title?\" \n",
    "# [ ] call title_it() using input for the string argument\n",
    "title_book=input(\"what is the title?\")\n",
    "title_it(title_book)"
   ]
  },
  {
   "cell_type": "code",
   "execution_count": 7,
   "id": "1dc8c567",
   "metadata": {},
   "outputs": [],
   "source": [
    "# [ ] define title_it_rtn() which returns a titled string instead of printing\n",
    "# [ ] call title_it_rtn() using input for the string argument and print the result\n",
    "\n",
    "def title_it_rtn(msg):\n",
    "    return msg.title()\n",
    "    \n",
    "\n"
   ]
  },
  {
   "cell_type": "code",
   "execution_count": 8,
   "id": "409f379b",
   "metadata": {},
   "outputs": [
    {
     "name": "stdout",
     "output_type": "stream",
     "text": [
      "As You Like It\n"
     ]
    }
   ],
   "source": [
    "print(title_it_rtn(\"as you like it\"))"
   ]
  },
  {
   "cell_type": "code",
   "execution_count": 9,
   "id": "f4ae893c",
   "metadata": {},
   "outputs": [],
   "source": [
    "def bookstore(book,price):\n",
    "    book_titled=title_it_rtn(book)\n",
    "    return (\"Title:\"+book_titled+\", costs $\"+price)\n"
   ]
  },
  {
   "cell_type": "code",
   "execution_count": 12,
   "id": "eb185441",
   "metadata": {},
   "outputs": [
    {
     "name": "stdout",
     "output_type": "stream",
     "text": [
      "Please enter a book namethe star\n",
      "Please enter the price of the book $50\n",
      "Title:The Star, costs $50\n"
     ]
    }
   ],
   "source": [
    "book=input(\"Please enter a book name\")\n",
    "price=input(\"Please enter the price of the book $\")\n",
    "print(bookstore(book,price))"
   ]
  },
  {
   "cell_type": "code",
   "execution_count": null,
   "id": "5a8dbca6",
   "metadata": {},
   "outputs": [],
   "source": []
  }
 ],
 "metadata": {
  "kernelspec": {
   "display_name": "Python 3 (ipykernel)",
   "language": "python",
   "name": "python3"
  },
  "language_info": {
   "codemirror_mode": {
    "name": "ipython",
    "version": 3
   },
   "file_extension": ".py",
   "mimetype": "text/x-python",
   "name": "python",
   "nbconvert_exporter": "python",
   "pygments_lexer": "ipython3",
   "version": "3.11.3"
  }
 },
 "nbformat": 4,
 "nbformat_minor": 5
}
